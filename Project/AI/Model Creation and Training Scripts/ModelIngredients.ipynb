{
 "cells": [
  {
   "cell_type": "code",
   "execution_count": 1,
   "metadata": {},
   "outputs": [
    {
     "name": "stdout",
     "output_type": "stream",
     "text": [
      "                    recipe_name  \\\n",
      "16877         Toasted Party Mix   \n",
      "15606  Nuts and Bolts Party Mix   \n",
      "44342     Six Week Bran Muffins   \n",
      "\n",
      "                                        ingredients_list  \n",
      "16877  ['margarine', 'seasoning salt', 'Worcestershir...  \n",
      "15606  ['chopped peanuts', 'mixed nuts', 'puffed whea...  \n",
      "44342  ['boiling water', 'bran cereal', 'shortening',...  \n"
     ]
    }
   ],
   "source": [
    "import pandas as pd\n",
    "from sklearn.neighbors import NearestNeighbors\n",
    "from sklearn.feature_extraction.text import TfidfVectorizer\n",
    "import pickle\n",
    "\n",
    "# Load data\n",
    "file = 'recipe_final (1).csv'\n",
    "recipes = pd.read_csv(file)\n",
    "\n",
    "# Preprocessing: Use the ingredients_list field and limit vocabulary to reduce model size\n",
    "vectorizer = TfidfVectorizer(max_features=5000)\n",
    "X_ing = vectorizer.fit_transform(recipes['ingredients_list'])\n",
    "\n",
    "# Fit KNN using a sparse matrix and the brute algorithm (which supports sparse matrices)\n",
    "KNN = NearestNeighbors(n_neighbors=3, metric='euclidean', algorithm='brute')\n",
    "KNN.fit(X_ing)\n",
    "\n",
    "def rec_recipes(query_text):\n",
    "    \"\"\"\n",
    "    Given a query ingredient text, return recommended recipes.\n",
    "    \n",
    "    Parameters:\n",
    "    - query_text: string representing the ingredient(s) query.\n",
    "    \n",
    "    Returns:\n",
    "    - A pandas DataFrame with the recommended recipes (recipe_name and ingredients_list).\n",
    "    \"\"\"\n",
    "    query_vec = vectorizer.transform([query_text])\n",
    "    distances, indexes = KNN.kneighbors(query_vec)\n",
    "    recs = recipes.iloc[indexes[0]]\n",
    "    return recs[['recipe_name', 'ingredients_list']]\n",
    "\n",
    "# Example prediction:\n",
    "input_text = 'Cereal'\n",
    "recommended_recipes = rec_recipes(input_text)\n",
    "print(recommended_recipes)\n",
    "\n",
    "# Save the fitted vectorizer and KNN model to disk\n",
    "with open('vectorizer.pkl', 'wb') as f:\n",
    "    pickle.dump(vectorizer, f)\n",
    "\n",
    "with open('model.pkl', 'wb') as f:\n",
    "    pickle.dump(KNN, f)\n"
   ]
  }
 ],
 "metadata": {
  "kernelspec": {
   "display_name": "base",
   "language": "python",
   "name": "python3"
  },
  "language_info": {
   "codemirror_mode": {
    "name": "ipython",
    "version": 3
   },
   "file_extension": ".py",
   "mimetype": "text/x-python",
   "name": "python",
   "nbconvert_exporter": "python",
   "pygments_lexer": "ipython3",
   "version": "3.12.7"
  }
 },
 "nbformat": 4,
 "nbformat_minor": 2
}
