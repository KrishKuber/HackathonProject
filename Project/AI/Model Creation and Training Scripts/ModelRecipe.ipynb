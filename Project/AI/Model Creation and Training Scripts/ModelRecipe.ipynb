{
 "cells": [
  {
   "cell_type": "code",
   "execution_count": 5,
   "metadata": {},
   "outputs": [
    {
     "name": "stdout",
     "output_type": "stream",
     "text": [
      "                       recipe_name  \\\n",
      "33764                Egg in a Boat   \n",
      "31834               Sunshine Toast   \n",
      "42950  Campfire Breakfast Sandwich   \n",
      "\n",
      "                                   ingredients_list  \\\n",
      "33764              ['butter', 'white bread', 'egg']   \n",
      "31834   ['butter', 'bread', 'egg', 'salt to taste']   \n",
      "42950  ['butter', 'bread', 'egg', 'Cheddar cheese']   \n",
      "\n",
      "                                               image_url  \n",
      "33764  https://images.media-allrecipes.com/userphotos...  \n",
      "31834  https://images.media-allrecipes.com/userphotos...  \n",
      "42950  http://images.media-allrecipes.com/userphotos/...  \n"
     ]
    },
    {
     "name": "stderr",
     "output_type": "stream",
     "text": [
      "/opt/anaconda3/lib/python3.12/site-packages/sklearn/base.py:493: UserWarning: X does not have valid feature names, but StandardScaler was fitted with feature names\n",
      "  warnings.warn(\n"
     ]
    }
   ],
   "source": [
    "import pandas as pd\n",
    "import numpy as np\n",
    "from sklearn.neighbors import NearestNeighbors\n",
    "from sklearn.preprocessing import StandardScaler\n",
    "from sklearn.feature_extraction.text import TfidfVectorizer\n",
    "from scipy.sparse import csr_matrix, hstack\n",
    "import pickle\n",
    "\n",
    "# Load data\n",
    "file = 'recipe_final (1).csv'\n",
    "recipes = pd.read_csv(file)\n",
    "\n",
    "# Preprocessing: Create TF-IDF matrix from the ingredients list\n",
    "vectorizerElement = TfidfVectorizer()\n",
    "X_ing = vectorizerElement.fit_transform(recipes['ingredients_list'])\n",
    "\n",
    "# Normalize numerical features\n",
    "scalerElement = StandardScaler()\n",
    "X_num = scalerElement.fit_transform(recipes[['calories', 'fat', 'carbohydrates', 'protein', 'cholesterol', 'sodium', 'fiber']])\n",
    "\n",
    "# Convert numerical features to a sparse matrix (they are only 7 features, so it’s efficient)\n",
    "X_num_sparse = csr_matrix(X_num)\n",
    "\n",
    "# Set a very high weight for the ingredient features to increase their importance\n",
    "ingredient_weight = 100.0  # Increase this value for an even higher focus on ingredients\n",
    "\n",
    "# Weight the TF-IDF features using the ingredient_weight and keep them sparse\n",
    "X_ing_weighted = X_ing * ingredient_weight\n",
    "\n",
    "# Combine the numerical and text features using a sparse horizontal stack\n",
    "X_com = hstack([X_num_sparse, X_ing_weighted])\n",
    "\n",
    "# Fit KNN using the 'brute' algorithm (which supports sparse matrices)\n",
    "KNN = NearestNeighbors(n_neighbors=3, metric='euclidean', algorithm='brute')\n",
    "KNN.fit(X_com)\n",
    "\n",
    "def predict(input):\n",
    "    \"\"\"\n",
    "    Predict similar recipes based on a combined feature vector.\n",
    "    \n",
    "    Parameters:\n",
    "    - input: list where the first 7 elements are numerical features in order:\n",
    "             [calories, fat, carbohydrates, protein, cholesterol, sodium, fiber]\n",
    "             and the 8th element is the ingredients string.\n",
    "             \n",
    "    Returns:\n",
    "    - A pandas DataFrame with the recommended recipes (columns: recipe_name, ingredients_list, image_url).\n",
    "    \"\"\"\n",
    "    # Scale the numerical portion and convert to sparse format\n",
    "    scaledinput = scalerElement.transform([input[:7]])\n",
    "    scaledinput_sparse = csr_matrix(scaledinput)\n",
    "    \n",
    "    # Transform the ingredient text and weight it using the high ingredient_weight\n",
    "    input_ing_trans = vectorizerElement.transform([input[7]]) * ingredient_weight\n",
    "    \n",
    "    # Combine numerical and textual input features\n",
    "    cominputs = hstack([scaledinput_sparse, input_ing_trans])\n",
    "    \n",
    "    # Find the nearest neighbors\n",
    "    distances, indexes = KNN.kneighbors(cominputs)\n",
    "    recoms = recipes.iloc[indexes[0]]\n",
    "    return recoms[['recipe_name', 'ingredients_list', 'image_url']]\n",
    "\n",
    "# Example prediction\n",
    "inputf = [28, 39, 1, 42, 24, 89, 2, 'egg, bread']\n",
    "a = predict(inputf)\n",
    "print(a)\n",
    "\n",
    "# Save the fitted models and transformers to disk\n",
    "with open('modelRecipe.pkl', 'wb') as f:\n",
    "    pickle.dump(KNN, f)\n",
    "\n",
    "with open('scalerElement.pkl', 'wb') as f:\n",
    "    pickle.dump(scalerElement, f)\n",
    "\n",
    "with open('vectorizerElement.pkl', 'wb') as f:\n",
    "    pickle.dump(vectorizerElement, f)\n"
   ]
  },
  {
   "cell_type": "markdown",
   "metadata": {},
   "source": []
  },
  {
   "cell_type": "markdown",
   "metadata": {},
   "source": []
  }
 ],
 "metadata": {
  "kernelspec": {
   "display_name": "base",
   "language": "python",
   "name": "python3"
  },
  "language_info": {
   "codemirror_mode": {
    "name": "ipython",
    "version": 3
   },
   "file_extension": ".py",
   "mimetype": "text/x-python",
   "name": "python",
   "nbconvert_exporter": "python",
   "pygments_lexer": "ipython3",
   "version": "3.12.7"
  }
 },
 "nbformat": 4,
 "nbformat_minor": 2
}
